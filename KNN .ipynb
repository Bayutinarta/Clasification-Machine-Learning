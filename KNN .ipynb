{
  "nbformat": 4,
  "nbformat_minor": 0,
  "metadata": {
    "colab": {
      "name": "COBACOBATA1.ipynb",
      "provenance": [],
      "collapsed_sections": []
    },
    "kernelspec": {
      "display_name": "Python 3",
      "name": "python3"
    },
    "language_info": {
      "name": "python"
    }
  },
  "cells": [
    {
      "cell_type": "code",
      "metadata": {
        "id": "6nh5Pc_qKqBS"
      },
      "source": [
        "import numpy as np\n",
        "import pandas as pd\n",
        "import matplotlib.pyplot as plt\n",
        "import seaborn as sns\n",
        "from pylab import rcParams\n",
        "from sklearn import metrics\n",
        "from sklearn.metrics import accuracy_score\n",
        "from sklearn.metrics import confusion_matrix"
      ],
      "execution_count": null,
      "outputs": []
    },
    {
      "cell_type": "code",
      "metadata": {
        "colab": {
          "base_uri": "https://localhost:8080/",
          "height": 514
        },
        "id": "KJv7LDaSO3WZ",
        "outputId": "0c039545-abc4-4f68-a837-40b6fa8375a1"
      },
      "source": [
        "Data = pd.read_csv('Data(2).csv')\n",
        "Data.head(15)"
      ],
      "execution_count": null,
      "outputs": [
        {
          "output_type": "execute_result",
          "data": {
            "text/html": [
              "<div>\n",
              "<style scoped>\n",
              "    .dataframe tbody tr th:only-of-type {\n",
              "        vertical-align: middle;\n",
              "    }\n",
              "\n",
              "    .dataframe tbody tr th {\n",
              "        vertical-align: top;\n",
              "    }\n",
              "\n",
              "    .dataframe thead th {\n",
              "        text-align: right;\n",
              "    }\n",
              "</style>\n",
              "<table border=\"1\" class=\"dataframe\">\n",
              "  <thead>\n",
              "    <tr style=\"text-align: right;\">\n",
              "      <th></th>\n",
              "      <th>Label</th>\n",
              "      <th>HI1</th>\n",
              "      <th>HI3</th>\n",
              "      <th>HI5</th>\n",
              "      <th>HI7</th>\n",
              "      <th>HI9</th>\n",
              "      <th>HI11</th>\n",
              "      <th>HI13</th>\n",
              "      <th>HI15</th>\n",
              "      <th>HI17</th>\n",
              "      <th>HI19</th>\n",
              "      <th>HI21</th>\n",
              "      <th>HI23</th>\n",
              "      <th>HI25</th>\n",
              "      <th>HI27</th>\n",
              "      <th>HI29</th>\n",
              "      <th>HI31</th>\n",
              "    </tr>\n",
              "  </thead>\n",
              "  <tbody>\n",
              "    <tr>\n",
              "      <th>0</th>\n",
              "      <td>Kipas</td>\n",
              "      <td>98.46</td>\n",
              "      <td>2.85</td>\n",
              "      <td>1.67</td>\n",
              "      <td>3.19</td>\n",
              "      <td>2.27</td>\n",
              "      <td>2.26</td>\n",
              "      <td>4.23</td>\n",
              "      <td>0.72</td>\n",
              "      <td>1.48</td>\n",
              "      <td>1.70</td>\n",
              "      <td>2.50</td>\n",
              "      <td>2.77</td>\n",
              "      <td>2.64</td>\n",
              "      <td>9.52</td>\n",
              "      <td>6.86</td>\n",
              "      <td>9.56</td>\n",
              "    </tr>\n",
              "    <tr>\n",
              "      <th>1</th>\n",
              "      <td>Kipas</td>\n",
              "      <td>98.75</td>\n",
              "      <td>6.50</td>\n",
              "      <td>1.33</td>\n",
              "      <td>3.66</td>\n",
              "      <td>2.22</td>\n",
              "      <td>0.82</td>\n",
              "      <td>2.52</td>\n",
              "      <td>3.61</td>\n",
              "      <td>9.19</td>\n",
              "      <td>3.64</td>\n",
              "      <td>5.54</td>\n",
              "      <td>4.35</td>\n",
              "      <td>2.99</td>\n",
              "      <td>2.30</td>\n",
              "      <td>1.83</td>\n",
              "      <td>1.30</td>\n",
              "    </tr>\n",
              "    <tr>\n",
              "      <th>2</th>\n",
              "      <td>Kipas</td>\n",
              "      <td>99.16</td>\n",
              "      <td>6.10</td>\n",
              "      <td>2.99</td>\n",
              "      <td>4.37</td>\n",
              "      <td>0.81</td>\n",
              "      <td>3.20</td>\n",
              "      <td>2.26</td>\n",
              "      <td>4.71</td>\n",
              "      <td>4.69</td>\n",
              "      <td>1.91</td>\n",
              "      <td>0.45</td>\n",
              "      <td>1.78</td>\n",
              "      <td>3.17</td>\n",
              "      <td>1.39</td>\n",
              "      <td>1.12</td>\n",
              "      <td>4.68</td>\n",
              "    </tr>\n",
              "    <tr>\n",
              "      <th>3</th>\n",
              "      <td>Kipas</td>\n",
              "      <td>99.20</td>\n",
              "      <td>4.85</td>\n",
              "      <td>3.84</td>\n",
              "      <td>3.14</td>\n",
              "      <td>1.83</td>\n",
              "      <td>1.92</td>\n",
              "      <td>1.73</td>\n",
              "      <td>6.11</td>\n",
              "      <td>2.48</td>\n",
              "      <td>4.95</td>\n",
              "      <td>1.76</td>\n",
              "      <td>1.56</td>\n",
              "      <td>3.95</td>\n",
              "      <td>2.27</td>\n",
              "      <td>2.32</td>\n",
              "      <td>0.98</td>\n",
              "    </tr>\n",
              "    <tr>\n",
              "      <th>4</th>\n",
              "      <td>Kipas</td>\n",
              "      <td>99.44</td>\n",
              "      <td>4.34</td>\n",
              "      <td>1.54</td>\n",
              "      <td>4.34</td>\n",
              "      <td>2.50</td>\n",
              "      <td>0.72</td>\n",
              "      <td>3.19</td>\n",
              "      <td>3.61</td>\n",
              "      <td>3.84</td>\n",
              "      <td>2.99</td>\n",
              "      <td>1.76</td>\n",
              "      <td>1.14</td>\n",
              "      <td>1.83</td>\n",
              "      <td>2.77</td>\n",
              "      <td>0.96</td>\n",
              "      <td>1.33</td>\n",
              "    </tr>\n",
              "    <tr>\n",
              "      <th>5</th>\n",
              "      <td>Kipas</td>\n",
              "      <td>99.84</td>\n",
              "      <td>4.76</td>\n",
              "      <td>1.72</td>\n",
              "      <td>1.19</td>\n",
              "      <td>0.79</td>\n",
              "      <td>0.45</td>\n",
              "      <td>0.33</td>\n",
              "      <td>0.00</td>\n",
              "      <td>1.06</td>\n",
              "      <td>0.74</td>\n",
              "      <td>0.83</td>\n",
              "      <td>0.38</td>\n",
              "      <td>0.47</td>\n",
              "      <td>1.00</td>\n",
              "      <td>0.80</td>\n",
              "      <td>0.00</td>\n",
              "    </tr>\n",
              "    <tr>\n",
              "      <th>6</th>\n",
              "      <td>Kipas</td>\n",
              "      <td>99.71</td>\n",
              "      <td>4.17</td>\n",
              "      <td>1.25</td>\n",
              "      <td>1.64</td>\n",
              "      <td>1.41</td>\n",
              "      <td>1.77</td>\n",
              "      <td>1.89</td>\n",
              "      <td>1.34</td>\n",
              "      <td>0.00</td>\n",
              "      <td>2.31</td>\n",
              "      <td>2.34</td>\n",
              "      <td>2.13</td>\n",
              "      <td>2.41</td>\n",
              "      <td>1.22</td>\n",
              "      <td>1.22</td>\n",
              "      <td>2.54</td>\n",
              "    </tr>\n",
              "    <tr>\n",
              "      <th>7</th>\n",
              "      <td>Kipas</td>\n",
              "      <td>99.77</td>\n",
              "      <td>4.13</td>\n",
              "      <td>2.10</td>\n",
              "      <td>2.83</td>\n",
              "      <td>0.41</td>\n",
              "      <td>1.52</td>\n",
              "      <td>1.11</td>\n",
              "      <td>1.04</td>\n",
              "      <td>1.87</td>\n",
              "      <td>0.98</td>\n",
              "      <td>1.20</td>\n",
              "      <td>1.07</td>\n",
              "      <td>4.97</td>\n",
              "      <td>4.62</td>\n",
              "      <td>1.50</td>\n",
              "      <td>0.70</td>\n",
              "    </tr>\n",
              "    <tr>\n",
              "      <th>8</th>\n",
              "      <td>Kipas</td>\n",
              "      <td>99.48</td>\n",
              "      <td>7.46</td>\n",
              "      <td>3.84</td>\n",
              "      <td>1.67</td>\n",
              "      <td>1.22</td>\n",
              "      <td>1.75</td>\n",
              "      <td>1.67</td>\n",
              "      <td>1.54</td>\n",
              "      <td>1.44</td>\n",
              "      <td>1.22</td>\n",
              "      <td>7.69</td>\n",
              "      <td>5.69</td>\n",
              "      <td>2.99</td>\n",
              "      <td>1.44</td>\n",
              "      <td>3.86</td>\n",
              "      <td>2.84</td>\n",
              "    </tr>\n",
              "    <tr>\n",
              "      <th>9</th>\n",
              "      <td>Kipas</td>\n",
              "      <td>99.52</td>\n",
              "      <td>5.75</td>\n",
              "      <td>0.98</td>\n",
              "      <td>1.32</td>\n",
              "      <td>1.39</td>\n",
              "      <td>2.40</td>\n",
              "      <td>1.54</td>\n",
              "      <td>20.01</td>\n",
              "      <td>20.84</td>\n",
              "      <td>36.69</td>\n",
              "      <td>19.02</td>\n",
              "      <td>25.06</td>\n",
              "      <td>0.00</td>\n",
              "      <td>0.00</td>\n",
              "      <td>0.00</td>\n",
              "      <td>0.00</td>\n",
              "    </tr>\n",
              "    <tr>\n",
              "      <th>10</th>\n",
              "      <td>Kosong</td>\n",
              "      <td>0.00</td>\n",
              "      <td>0.00</td>\n",
              "      <td>0.00</td>\n",
              "      <td>0.00</td>\n",
              "      <td>0.00</td>\n",
              "      <td>0.00</td>\n",
              "      <td>0.00</td>\n",
              "      <td>0.00</td>\n",
              "      <td>0.00</td>\n",
              "      <td>0.00</td>\n",
              "      <td>0.00</td>\n",
              "      <td>0.00</td>\n",
              "      <td>0.00</td>\n",
              "      <td>0.00</td>\n",
              "      <td>0.00</td>\n",
              "      <td>0.00</td>\n",
              "    </tr>\n",
              "    <tr>\n",
              "      <th>11</th>\n",
              "      <td>Kosong</td>\n",
              "      <td>0.00</td>\n",
              "      <td>0.00</td>\n",
              "      <td>0.00</td>\n",
              "      <td>0.00</td>\n",
              "      <td>0.00</td>\n",
              "      <td>0.00</td>\n",
              "      <td>0.00</td>\n",
              "      <td>0.00</td>\n",
              "      <td>0.00</td>\n",
              "      <td>0.00</td>\n",
              "      <td>0.00</td>\n",
              "      <td>0.00</td>\n",
              "      <td>0.00</td>\n",
              "      <td>0.00</td>\n",
              "      <td>0.00</td>\n",
              "      <td>0.00</td>\n",
              "    </tr>\n",
              "    <tr>\n",
              "      <th>12</th>\n",
              "      <td>Kosong</td>\n",
              "      <td>0.00</td>\n",
              "      <td>0.00</td>\n",
              "      <td>0.00</td>\n",
              "      <td>0.00</td>\n",
              "      <td>0.00</td>\n",
              "      <td>0.00</td>\n",
              "      <td>0.00</td>\n",
              "      <td>0.00</td>\n",
              "      <td>0.00</td>\n",
              "      <td>0.00</td>\n",
              "      <td>0.00</td>\n",
              "      <td>0.00</td>\n",
              "      <td>0.00</td>\n",
              "      <td>0.00</td>\n",
              "      <td>0.00</td>\n",
              "      <td>0.00</td>\n",
              "    </tr>\n",
              "    <tr>\n",
              "      <th>13</th>\n",
              "      <td>Kosong</td>\n",
              "      <td>0.00</td>\n",
              "      <td>0.00</td>\n",
              "      <td>0.00</td>\n",
              "      <td>0.00</td>\n",
              "      <td>0.00</td>\n",
              "      <td>0.00</td>\n",
              "      <td>0.00</td>\n",
              "      <td>0.00</td>\n",
              "      <td>0.00</td>\n",
              "      <td>0.00</td>\n",
              "      <td>0.00</td>\n",
              "      <td>0.00</td>\n",
              "      <td>0.00</td>\n",
              "      <td>0.00</td>\n",
              "      <td>0.00</td>\n",
              "      <td>0.00</td>\n",
              "    </tr>\n",
              "    <tr>\n",
              "      <th>14</th>\n",
              "      <td>Kosong</td>\n",
              "      <td>0.00</td>\n",
              "      <td>0.00</td>\n",
              "      <td>0.00</td>\n",
              "      <td>0.00</td>\n",
              "      <td>0.00</td>\n",
              "      <td>0.00</td>\n",
              "      <td>0.00</td>\n",
              "      <td>0.00</td>\n",
              "      <td>0.00</td>\n",
              "      <td>0.00</td>\n",
              "      <td>0.00</td>\n",
              "      <td>0.00</td>\n",
              "      <td>0.00</td>\n",
              "      <td>0.00</td>\n",
              "      <td>0.00</td>\n",
              "      <td>0.00</td>\n",
              "    </tr>\n",
              "  </tbody>\n",
              "</table>\n",
              "</div>"
            ],
            "text/plain": [
              "     Label    HI1   HI3   HI5   HI7   HI9  ...   HI21   HI23  HI25  HI27  HI29  HI31\n",
              "0    Kipas  98.46  2.85  1.67  3.19  2.27  ...   2.50   2.77  2.64  9.52  6.86  9.56\n",
              "1    Kipas  98.75  6.50  1.33  3.66  2.22  ...   5.54   4.35  2.99  2.30  1.83  1.30\n",
              "2    Kipas  99.16  6.10  2.99  4.37  0.81  ...   0.45   1.78  3.17  1.39  1.12  4.68\n",
              "3    Kipas  99.20  4.85  3.84  3.14  1.83  ...   1.76   1.56  3.95  2.27  2.32  0.98\n",
              "4    Kipas  99.44  4.34  1.54  4.34  2.50  ...   1.76   1.14  1.83  2.77  0.96  1.33\n",
              "5    Kipas  99.84  4.76  1.72  1.19  0.79  ...   0.83   0.38  0.47  1.00  0.80  0.00\n",
              "6    Kipas  99.71  4.17  1.25  1.64  1.41  ...   2.34   2.13  2.41  1.22  1.22  2.54\n",
              "7    Kipas  99.77  4.13  2.10  2.83  0.41  ...   1.20   1.07  4.97  4.62  1.50  0.70\n",
              "8    Kipas  99.48  7.46  3.84  1.67  1.22  ...   7.69   5.69  2.99  1.44  3.86  2.84\n",
              "9    Kipas  99.52  5.75  0.98  1.32  1.39  ...  19.02  25.06  0.00  0.00  0.00  0.00\n",
              "10  Kosong   0.00  0.00  0.00  0.00  0.00  ...   0.00   0.00  0.00  0.00  0.00  0.00\n",
              "11  Kosong   0.00  0.00  0.00  0.00  0.00  ...   0.00   0.00  0.00  0.00  0.00  0.00\n",
              "12  Kosong   0.00  0.00  0.00  0.00  0.00  ...   0.00   0.00  0.00  0.00  0.00  0.00\n",
              "13  Kosong   0.00  0.00  0.00  0.00  0.00  ...   0.00   0.00  0.00  0.00  0.00  0.00\n",
              "14  Kosong   0.00  0.00  0.00  0.00  0.00  ...   0.00   0.00  0.00  0.00  0.00  0.00\n",
              "\n",
              "[15 rows x 17 columns]"
            ]
          },
          "metadata": {
            "tags": []
          },
          "execution_count": 4
        }
      ]
    },
    {
      "cell_type": "code",
      "metadata": {
        "colab": {
          "base_uri": "https://localhost:8080/"
        },
        "id": "CBLzoKU7O3_x",
        "outputId": "8fdef0ba-2b59-46d5-b8b0-c912a68eda04"
      },
      "source": [
        "Data.shape"
      ],
      "execution_count": null,
      "outputs": [
        {
          "output_type": "execute_result",
          "data": {
            "text/plain": [
              "(876, 17)"
            ]
          },
          "metadata": {
            "tags": []
          },
          "execution_count": 5
        }
      ]
    },
    {
      "cell_type": "code",
      "metadata": {
        "colab": {
          "base_uri": "https://localhost:8080/"
        },
        "id": "tGUr_BuqPHFJ",
        "outputId": "4014244d-eb3d-44ec-9e65-2de20af35b66"
      },
      "source": [
        "Data.info()"
      ],
      "execution_count": null,
      "outputs": [
        {
          "output_type": "stream",
          "text": [
            "<class 'pandas.core.frame.DataFrame'>\n",
            "RangeIndex: 876 entries, 0 to 875\n",
            "Data columns (total 17 columns):\n",
            " #   Column  Non-Null Count  Dtype  \n",
            "---  ------  --------------  -----  \n",
            " 0   Label   876 non-null    object \n",
            " 1   HI1     876 non-null    float64\n",
            " 2   HI3     876 non-null    float64\n",
            " 3   HI5     876 non-null    float64\n",
            " 4   HI7     876 non-null    float64\n",
            " 5   HI9     876 non-null    float64\n",
            " 6   HI11    876 non-null    float64\n",
            " 7   HI13    876 non-null    float64\n",
            " 8   HI15    876 non-null    float64\n",
            " 9   HI17    876 non-null    float64\n",
            " 10  HI19    876 non-null    float64\n",
            " 11  HI21    876 non-null    float64\n",
            " 12  HI23    876 non-null    float64\n",
            " 13  HI25    876 non-null    float64\n",
            " 14  HI27    876 non-null    float64\n",
            " 15  HI29    876 non-null    float64\n",
            " 16  HI31    876 non-null    float64\n",
            "dtypes: float64(16), object(1)\n",
            "memory usage: 116.5+ KB\n"
          ],
          "name": "stdout"
        }
      ]
    },
    {
      "cell_type": "code",
      "metadata": {
        "colab": {
          "base_uri": "https://localhost:8080/"
        },
        "id": "H6USrC_ePqmp",
        "outputId": "ebe88195-bf05-445b-e757-448d2d63f7fe"
      },
      "source": [
        "Data['Label'].unique() "
      ],
      "execution_count": null,
      "outputs": [
        {
          "output_type": "execute_result",
          "data": {
            "text/plain": [
              "array(['Kipas', 'Kosong', 'Pemanas Air', 'Blender', 'Hairdryer',\n",
              "       'HairdryerBlender', 'HairdryerKipas', 'HairdryerPemanas Air',\n",
              "       'BlenderPemanas Air', 'BlenderKipas', 'Pemanas AirKipas',\n",
              "       'HairdryerBlenderKipas', 'HairdryerBlenderPemanas Air',\n",
              "       'BlenderPemanas AirKipas', 'Pemanas AirKipasHairdryer',\n",
              "       'KipasPemanas AirBlenderHairdryer'], dtype=object)"
            ]
          },
          "metadata": {
            "tags": []
          },
          "execution_count": 7
        }
      ]
    },
    {
      "cell_type": "code",
      "metadata": {
        "id": "OuawcrRf1C8s"
      },
      "source": [
        "#Data.plot.hist(subplots=True, layout=(12,2), figsize=(30, 25), bins=20)\n",
        "#plt.show()"
      ],
      "execution_count": null,
      "outputs": []
    },
    {
      "cell_type": "code",
      "metadata": {
        "id": "60t62iq83AG6"
      },
      "source": [
        "#sns.scatterplot(data=Data)"
      ],
      "execution_count": null,
      "outputs": []
    },
    {
      "cell_type": "code",
      "metadata": {
        "id": "eufpr43P5Q_x"
      },
      "source": [
        "#sns.lineplot(data=Data.drop(['Label'], axis=1))"
      ],
      "execution_count": null,
      "outputs": []
    },
    {
      "cell_type": "code",
      "metadata": {
        "id": "-hGC8zporGXg"
      },
      "source": [
        ""
      ],
      "execution_count": null,
      "outputs": []
    },
    {
      "cell_type": "code",
      "metadata": {
        "colab": {
          "base_uri": "https://localhost:8080/"
        },
        "id": "cT5338AnSOZB",
        "outputId": "9a37aeb5-7b04-4e07-cb39-c0807d76399e"
      },
      "source": [
        "# Import label encoder \n",
        "from sklearn import preprocessing \n",
        "  \n",
        "# label_encoder object knows how to understand word labels. \n",
        "label_encoder = preprocessing.LabelEncoder() \n",
        "  \n",
        "# Encode labels in column 'species'. \n",
        "Data['Label']= label_encoder.fit_transform(Data['Label']) \n",
        "  \n",
        "Data['Label'].unique() "
      ],
      "execution_count": null,
      "outputs": [
        {
          "output_type": "execute_result",
          "data": {
            "text/plain": [
              "array([10, 12, 13,  0,  4,  5,  8,  9,  2,  1, 14,  6,  7,  3, 15, 11])"
            ]
          },
          "metadata": {
            "tags": []
          },
          "execution_count": 8
        }
      ]
    },
    {
      "cell_type": "code",
      "metadata": {
        "colab": {
          "base_uri": "https://localhost:8080/",
          "height": 624
        },
        "id": "dHNV02hUSSCi",
        "outputId": "341ed4a8-c54b-43bd-f877-c61f91157600"
      },
      "source": [
        "correlation = Data.corr()\n",
        "plt.figure(figsize=(15,10))\n",
        "plt.title('Correlation of Attributes with Class variable')\n",
        "a = sns.heatmap(correlation, square=True, annot=True, fmt='.2f', linecolor='white')\n",
        "a.set_xticklabels(a.get_xticklabels(), rotation=90)\n",
        "a.set_yticklabels(a.get_yticklabels(), rotation=0)           \n",
        "plt.show()"
      ],
      "execution_count": null,
      "outputs": [
        {
          "output_type": "display_data",
          "data": {
            "image/png": "[encoded data removed]",
            "text/plain": [
              "<Figure size 1080x720 with 2 Axes>"
            ]
          },
          "metadata": {
            "tags": []
          }
        }
      ]
    },
    {
      "cell_type": "code",
      "metadata": {
        "colab": {
          "base_uri": "https://localhost:8080/"
        },
        "id": "-Jmd6ATJSfkx",
        "outputId": "a3f2ae76-56e5-45a0-d6c5-6dfc02b3dbf5"
      },
      "source": [
        "correlation['Label'].sort_values(ascending=False)"
      ],
      "execution_count": null,
      "outputs": [
        {
          "output_type": "execute_result",
          "data": {
            "text/plain": [
              "Label    1.000000\n",
              "HI23    -0.069509\n",
              "HI29    -0.081364\n",
              "HI19    -0.083689\n",
              "HI21    -0.095210\n",
              "HI27    -0.096605\n",
              "HI25    -0.098789\n",
              "HI15    -0.109463\n",
              "HI17    -0.136924\n",
              "HI31    -0.185010\n",
              "HI13    -0.271395\n",
              "HI11    -0.288108\n",
              "HI7     -0.354918\n",
              "HI9     -0.416455\n",
              "HI5     -0.499690\n",
              "HI1     -0.534225\n",
              "HI3     -0.568998\n",
              "Name: Label, dtype: float64"
            ]
          },
          "metadata": {
            "tags": []
          },
          "execution_count": 11
        }
      ]
    },
    {
      "cell_type": "code",
      "metadata": {
        "colab": {
          "base_uri": "https://localhost:8080/"
        },
        "id": "zF_npMKsTCCJ",
        "outputId": "004ef636-a3c9-44aa-df91-46dbcbd39979"
      },
      "source": [
        "from sklearn.model_selection import train_test_split\n",
        "#X = Data[['HI1','HI3','HI5','HI9']]\n",
        "X = Data[['HI1', 'HI3', 'HI5','HI7', 'HI9','HI11','HI13','HI15','HI17','HI19','HI21','HI23','HI25','HI27','HI29','HI31']]\n",
        "y = Data['Label']\n",
        "X_train, X_test, y_train, y_test = train_test_split(X, y, test_size=0.25, random_state=2)\n",
        "X_train.shape, X_test.shape"
      ],
      "execution_count": null,
      "outputs": [
        {
          "output_type": "execute_result",
          "data": {
            "text/plain": [
              "((657, 16), (219, 16))"
            ]
          },
          "metadata": {
            "tags": []
          },
          "execution_count": 9
        }
      ]
    },
    {
      "cell_type": "code",
      "metadata": {
        "id": "5TpMzDitUfh9"
      },
      "source": [
        "from sklearn.neighbors import KNeighborsClassifier"
      ],
      "execution_count": null,
      "outputs": []
    },
    {
      "cell_type": "code",
      "metadata": {
        "colab": {
          "base_uri": "https://localhost:8080/"
        },
        "id": "Fni_wj4SUicA",
        "outputId": "6a4518ea-2031-4afd-c817-75e931e449dd"
      },
      "source": [
        "knn = KNeighborsClassifier(n_neighbors=7)\n",
        "knn.fit(X_train,y_train)"
      ],
      "execution_count": null,
      "outputs": [
        {
          "output_type": "execute_result",
          "data": {
            "text/plain": [
              "KNeighborsClassifier(algorithm='auto', leaf_size=30, metric='minkowski',\n",
              "                     metric_params=None, n_jobs=None, n_neighbors=7, p=2,\n",
              "                     weights='uniform')"
            ]
          },
          "metadata": {
            "tags": []
          },
          "execution_count": 11
        }
      ]
    },
    {
      "cell_type": "code",
      "metadata": {
        "colab": {
          "base_uri": "https://localhost:8080/"
        },
        "id": "s2yNy12OUjdo",
        "outputId": "6dc9167e-70cc-4dc0-db48-518b630a9b96"
      },
      "source": [
        "y_pred = knn.predict(X_test)\n",
        "y_pred"
      ],
      "execution_count": null,
      "outputs": [
        {
          "output_type": "execute_result",
          "data": {
            "text/plain": [
              "array([12, 12, 12, 12,  0, 12,  3,  1,  3, 12,  1,  4,  2, 12, 12,  4, 10,\n",
              "        0, 12, 12, 12, 12,  4, 12, 12,  0, 12,  1, 12, 12, 12, 12, 13, 12,\n",
              "       12, 11, 12,  7,  3, 12,  8, 11, 12,  1,  7,  7, 12,  4, 12, 12, 12,\n",
              "       12, 12, 12, 12, 12,  5, 12, 12,  1,  5, 12, 12, 12, 12, 12, 13, 12,\n",
              "        7, 12,  1, 14, 12, 12, 12, 12,  5, 12, 14,  4, 12, 12, 14, 12,  3,\n",
              "       15, 12, 12,  7, 12, 12, 12, 12, 12,  5, 12, 12, 12, 12, 12, 12,  8,\n",
              "        1, 12, 12,  9, 12, 12,  9, 12, 12, 12,  0, 12, 12, 12, 11, 12, 12,\n",
              "       12, 12, 12, 11,  7, 12, 12,  9, 12,  7,  8, 12, 12,  5, 12, 12, 12,\n",
              "       12, 12, 12,  5, 12, 10,  1, 12,  4,  6,  7, 12, 10,  0,  4,  5,  2,\n",
              "        1, 12,  5, 12, 13,  7,  3, 11,  1,  2, 12, 12, 12, 11, 12, 10, 12,\n",
              "       15, 12,  5, 12,  9,  9, 12, 12, 10,  9, 12,  9,  2, 13, 12, 15, 12,\n",
              "        7,  6, 12,  4, 12, 12, 12,  5, 12, 12,  4,  3, 12, 12,  9, 12, 12,\n",
              "       12, 12, 12, 12, 12,  0, 12, 12, 12, 12, 12, 12, 12, 11,  5])"
            ]
          },
          "metadata": {
            "tags": []
          },
          "execution_count": 12
        }
      ]
    },
    {
      "cell_type": "code",
      "metadata": {
        "id": "7JLgmvhsUk73"
      },
      "source": [
        "#list(label_encoder.inverse_transform([10, 12, 13,  0,  4,  5,  8,  9,  2,  1, 14,  6,  7,  3, 15, 11]))"
      ],
      "execution_count": null,
      "outputs": []
    },
    {
      "cell_type": "code",
      "metadata": {
        "colab": {
          "base_uri": "https://localhost:8080/"
        },
        "id": "2UOQDXErVjKI",
        "outputId": "74531856-3428-4a03-bceb-c478e51fc017"
      },
      "source": [
        "print('Model accuracy score: {0:0.4f}'. format(accuracy_score(y_test, y_pred)))"
      ],
      "execution_count": null,
      "outputs": [
        {
          "output_type": "stream",
          "text": [
            "Model accuracy score: 0.7945\n"
          ],
          "name": "stdout"
        }
      ]
    },
    {
      "cell_type": "code",
      "metadata": {
        "id": "GkgJY2mCXSfh"
      },
      "source": [
        "y_pred_train = knn.predict(X_train)"
      ],
      "execution_count": null,
      "outputs": []
    },
    {
      "cell_type": "code",
      "metadata": {
        "colab": {
          "base_uri": "https://localhost:8080/"
        },
        "id": "-wlklBJzXa3X",
        "outputId": "f71e5a56-d540-49df-be00-7564f2856024"
      },
      "source": [
        "print('Training set score: {:.4f}'.format(knn.score(X_train, y_train)))\n",
        "\n",
        "print('Test set score: {:.4f}'.format(knn.score(X_test, y_test)))"
      ],
      "execution_count": null,
      "outputs": [
        {
          "output_type": "stream",
          "text": [
            "Training set score: 0.8432\n",
            "Test set score: 0.7945\n"
          ],
          "name": "stdout"
        }
      ]
    },
    {
      "cell_type": "code",
      "metadata": {
        "colab": {
          "base_uri": "https://localhost:8080/"
        },
        "id": "S1Ij8Qe-XcEf",
        "outputId": "197a8463-ba2f-4acd-bedb-88bd537bc13a"
      },
      "source": [
        "y_test.value_counts()"
      ],
      "execution_count": null,
      "outputs": [
        {
          "output_type": "execute_result",
          "data": {
            "text/plain": [
              "12    116\n",
              "15     12\n",
              "4      11\n",
              "10      9\n",
              "14      7\n",
              "8       7\n",
              "2       7\n",
              "1       7\n",
              "11      6\n",
              "9       6\n",
              "0       6\n",
              "13      5\n",
              "7       5\n",
              "6       5\n",
              "5       5\n",
              "3       5\n",
              "Name: Label, dtype: int64"
            ]
          },
          "metadata": {
            "tags": []
          },
          "execution_count": 17
        }
      ]
    },
    {
      "cell_type": "markdown",
      "metadata": {
        "id": "HaTfMljcsVJa"
      },
      "source": [
        "12    116\n",
        "15     12\n",
        "4      11\n",
        "10      9\n",
        "14      7\n",
        "8       7\n",
        "2       7\n",
        "1       7\n",
        "11      6\n",
        "9       6\n",
        "0       6\n",
        "13      5\n",
        "7       5\n",
        "6       5\n",
        "5       5\n",
        "3       5"
      ]
    },
    {
      "cell_type": "code",
      "metadata": {
        "colab": {
          "base_uri": "https://localhost:8080/"
        },
        "id": "NM61sGn_ZCqX",
        "outputId": "52d0ffe4-a9ff-442c-80a0-3a6003691c2c"
      },
      "source": [
        "null_accuracy = (116/(116+12+11+9+7+7+7+7+6+6+6+5+5+5+5+5))\n",
        "\n",
        "print('Null accuracy score: {0:0.4f}'. format(null_accuracy))"
      ],
      "execution_count": null,
      "outputs": [
        {
          "output_type": "stream",
          "text": [
            "Null accuracy score: 0.5297\n"
          ],
          "name": "stdout"
        }
      ]
    },
    {
      "cell_type": "code",
      "metadata": {
        "id": "ikOIo4glZXin"
      },
      "source": [
        "error = []\n",
        "\n",
        "# Calculating error for K values between 1 and 25\n",
        "for i in range(1, 30):\n",
        "    knn = KNeighborsClassifier(n_neighbors=i)\n",
        "    knn.fit(X_train, y_train)\n",
        "    pred_i = knn.predict(X_test)\n",
        "    error.append(np.mean(pred_i != y_test))"
      ],
      "execution_count": null,
      "outputs": []
    },
    {
      "cell_type": "code",
      "metadata": {
        "id": "ngQ2hB5fZeZ-"
      },
      "source": [
        "#plt.figure(figsize=(12, 6))\n",
        "#plt.plot(range(1, 30), error, color='red', linestyle='dashed', marker='o',\n",
        "         #markerfacecolor='blue', markersize=10)\n",
        "#plt.title('Error Rate K Value')\n",
        "#plt.xlabel('K Value')\n",
        "#plt.ylabel('Mean Error')"
      ],
      "execution_count": null,
      "outputs": []
    },
    {
      "cell_type": "code",
      "metadata": {
        "id": "JvzZnD98Zfu2"
      },
      "source": [
        "from sklearn.neighbors import KNeighborsClassifier\n",
        "\n",
        "#Setup arrays to store training and test accuracies\n",
        "neighbors = np.arange(1,30)\n",
        "train_accuracy =np.empty(len(neighbors))\n",
        "test_accuracy = np.empty(len(neighbors))\n",
        "\n",
        "for i,k in enumerate(neighbors):\n",
        "    #Setup a knn classifier with k neighbors\n",
        "    knn = KNeighborsClassifier(n_neighbors=k)\n",
        "    \n",
        "    #Fit the model\n",
        "    knn.fit(X_train, y_train)\n",
        "    \n",
        "    #Compute accuracy on the training set\n",
        "    train_accuracy[i] = knn.score(X_train, y_train)\n",
        "    \n",
        "    #Compute accuracy on the test set\n",
        "    test_accuracy[i] = knn.score(X_test, y_test) \n"
      ],
      "execution_count": null,
      "outputs": []
    },
    {
      "cell_type": "code",
      "metadata": {
        "colab": {
          "base_uri": "https://localhost:8080/",
          "height": 404
        },
        "id": "AYuLN7nJZh9m",
        "outputId": "f963ad0c-a0db-4740-9049-05f12cc1620d"
      },
      "source": [
        "plt.figure(figsize=(12, 6))\n",
        "plt.title('Varian K untuk akurasi dan error rate value')\n",
        "plt.plot(neighbors, test_accuracy, label='Testing Accuracy')\n",
        "plt.plot(neighbors, train_accuracy, label='Training accuracy')\n",
        "plt.plot(range(1, 30), error, color='red', linestyle='dashed', marker='o',\n",
        "         markerfacecolor='blue', markersize=10, label = 'Error Rate K Value')\n",
        "plt.legend()\n",
        "plt.xlabel('Number of neighbors')\n",
        "plt.ylabel('Accuracy / mean error(untuk error rate value)')\n",
        "plt.show()"
      ],
      "execution_count": null,
      "outputs": [
        {
          "output_type": "display_data",
          "data": {
            "image/png": "[encoded data removed]",
            "text/plain": [
              "<Figure size 864x432 with 1 Axes>"
            ]
          },
          "metadata": {
            "tags": []
          }
        }
      ]
    },
    {
      "cell_type": "code",
      "metadata": {
        "id": "oZ_5SGhRbkKP"
      },
      "source": [
        "from sklearn.model_selection import GridSearchCV"
      ],
      "execution_count": null,
      "outputs": []
    },
    {
      "cell_type": "code",
      "metadata": {
        "colab": {
          "base_uri": "https://localhost:8080/"
        },
        "id": "1b_0HkK0bln-",
        "outputId": "7e5fe2e2-ee18-40b6-a80a-96c4a8a0138a"
      },
      "source": [
        "param_grid = {'n_neighbors':np.arange(1,40)}\n",
        "knn = KNeighborsClassifier()\n",
        "knn_cv= GridSearchCV(knn,param_grid,cv=10)\n",
        "knn_cv.fit(X,y)"
      ],
      "execution_count": null,
      "outputs": [
        {
          "output_type": "execute_result",
          "data": {
            "text/plain": [
              "GridSearchCV(cv=10, error_score=nan,\n",
              "             estimator=KNeighborsClassifier(algorithm='auto', leaf_size=30,\n",
              "                                            metric='minkowski',\n",
              "                                            metric_params=None, n_jobs=None,\n",
              "                                            n_neighbors=5, p=2,\n",
              "                                            weights='uniform'),\n",
              "             iid='deprecated', n_jobs=None,\n",
              "             param_grid={'n_neighbors': array([ 1,  2,  3,  4,  5,  6,  7,  8,  9, 10, 11, 12, 13, 14, 15, 16, 17,\n",
              "       18, 19, 20, 21, 22, 23, 24, 25, 26, 27, 28, 29, 30, 31, 32, 33, 34,\n",
              "       35, 36, 37, 38, 39])},\n",
              "             pre_dispatch='2*n_jobs', refit=True, return_train_score=False,\n",
              "             scoring=None, verbose=0)"
            ]
          },
          "metadata": {
            "tags": []
          },
          "execution_count": 24
        }
      ]
    },
    {
      "cell_type": "code",
      "metadata": {
        "colab": {
          "base_uri": "https://localhost:8080/"
        },
        "id": "SVvMWkz8bnDO",
        "outputId": "9da47c62-1146-4c44-b230-353fe31f831d"
      },
      "source": [
        "knn_cv.best_score_"
      ],
      "execution_count": null,
      "outputs": [
        {
          "output_type": "execute_result",
          "data": {
            "text/plain": [
              "0.8218390804597702"
            ]
          },
          "metadata": {
            "tags": []
          },
          "execution_count": 25
        }
      ]
    },
    {
      "cell_type": "code",
      "metadata": {
        "colab": {
          "base_uri": "https://localhost:8080/"
        },
        "id": "a5Sjgp5ibs3X",
        "outputId": "608c428a-c0d9-4291-e5f8-156dcf301068"
      },
      "source": [
        "knn_cv.best_params_"
      ],
      "execution_count": null,
      "outputs": [
        {
          "output_type": "execute_result",
          "data": {
            "text/plain": [
              "{'n_neighbors': 9}"
            ]
          },
          "metadata": {
            "tags": []
          },
          "execution_count": 26
        }
      ]
    },
    {
      "cell_type": "code",
      "metadata": {
        "colab": {
          "base_uri": "https://localhost:8080/"
        },
        "id": "_m-p4Wg8bxd_",
        "outputId": "c4eefbd1-c535-4323-89fe-57743f18bfbd"
      },
      "source": [
        "knn_4 = KNeighborsClassifier(n_neighbors=10)\n",
        "\n",
        "\n",
        "# fit the model to the training set\n",
        "knn_4.fit(X_train, y_train)\n",
        "\n",
        "\n",
        "# predict on the test-set\n",
        "y_pred_4 = knn_4.predict(X_test)\n",
        "\n",
        "\n",
        "print('Model accuracy score with k=15 : {0:0.4f}'. format(accuracy_score(y_test, y_pred_4)))"
      ],
      "execution_count": null,
      "outputs": [
        {
          "output_type": "stream",
          "text": [
            "Model accuracy score with k=15 : 0.8447\n"
          ],
          "name": "stdout"
        }
      ]
    },
    {
      "cell_type": "code",
      "metadata": {
        "colab": {
          "base_uri": "https://localhost:8080/",
          "height": 673
        },
        "id": "vq7XbLxfcK_F",
        "outputId": "34d6a896-9f05-4013-991b-432ef0ebb625"
      },
      "source": [
        "from sklearn.metrics import classification_report, confusion_matrix\n",
        "from sklearn.metrics import recall_score\n",
        "from sklearn.metrics import classification_report\n",
        "\n",
        "print(classification_report(y_test, y_pred_4))\n",
        "plt.figure(figsize=(6,4))\n",
        "mat = confusion_matrix(y_test, y_pred_4)\n",
        "sns.heatmap(mat.T, square=True , annot=True, fmt='d', cbar=False)"
      ],
      "execution_count": null,
      "outputs": [
        {
          "output_type": "stream",
          "text": [
            "              precision    recall  f1-score   support\n",
            "\n",
            "           0       0.67      0.67      0.67         6\n",
            "           1       0.70      1.00      0.82         7\n",
            "           2       0.80      0.57      0.67         7\n",
            "           3       0.67      0.40      0.50         5\n",
            "           4       0.71      0.45      0.56        11\n",
            "           5       0.57      0.80      0.67         5\n",
            "           6       1.00      0.60      0.75         5\n",
            "           7       0.57      0.80      0.67         5\n",
            "           8       1.00      0.71      0.83         7\n",
            "           9       0.33      0.50      0.40         6\n",
            "          10       1.00      0.67      0.80         9\n",
            "          11       0.86      1.00      0.92         6\n",
            "          12       0.91      1.00      0.95       116\n",
            "          13       1.00      0.60      0.75         5\n",
            "          14       1.00      0.57      0.73         7\n",
            "          15       1.00      0.75      0.86        12\n",
            "\n",
            "    accuracy                           0.84       219\n",
            "   macro avg       0.80      0.69      0.72       219\n",
            "weighted avg       0.86      0.84      0.84       219\n",
            "\n"
          ],
          "name": "stdout"
        },
        {
          "output_type": "execute_result",
          "data": {
            "text/plain": [
              "<matplotlib.axes._subplots.AxesSubplot at 0x7f5d50e89890>"
            ]
          },
          "metadata": {
            "tags": []
          },
          "execution_count": 28
        },
        {
          "output_type": "display_data",
          "data": {
            "image/png": "[encoded data removed]",
            "text/plain": [
              "<Figure size 432x288 with 1 Axes>"
            ]
          },
          "metadata": {
            "tags": []
          }
        }
      ]
    },
    {
      "cell_type": "code",
      "metadata": {
        "colab": {
          "base_uri": "https://localhost:8080/"
        },
        "id": "hVFp6-_pcSst",
        "outputId": "cd2cf636-967e-4bd6-e3be-0a0495e025d6"
      },
      "source": [
        "# instantiate the model with k=23\n",
        "knn_23 = KNeighborsClassifier(n_neighbors=9)\n",
        "\n",
        "\n",
        "# fit the model to the training set\n",
        "knn_23.fit(X_train, y_train)\n",
        "\n",
        "\n",
        "# predict on the test-set\n",
        "y_pred_23 = knn_23.predict(X_test)\n",
        "\n",
        "\n",
        "print('Model accuracy score with k=11 : {0:0.5f}'. format(accuracy_score(y_test, y_pred_23)))"
      ],
      "execution_count": null,
      "outputs": [
        {
          "output_type": "stream",
          "text": [
            "Model accuracy score with k=11 : 0.84018\n"
          ],
          "name": "stdout"
        }
      ]
    },
    {
      "cell_type": "code",
      "metadata": {
        "colab": {
          "base_uri": "https://localhost:8080/",
          "height": 673
        },
        "id": "Fk8sDZgXeKz2",
        "outputId": "39206926-a2bd-4126-e9cb-16078759146e"
      },
      "source": [
        "from sklearn.metrics import classification_report, confusion_matrix\n",
        "from sklearn.metrics import recall_score\n",
        "\n",
        "print(classification_report(y_test, y_pred_23))\n",
        "plt.figure(figsize=(6,4))\n",
        "mat = confusion_matrix(y_test, y_pred_23)\n",
        "sns.heatmap(mat.T, square=True , annot=True, fmt='d', cbar=False)"
      ],
      "execution_count": null,
      "outputs": [
        {
          "output_type": "stream",
          "text": [
            "              precision    recall  f1-score   support\n",
            "\n",
            "           0       0.80      0.67      0.73         6\n",
            "           1       0.70      1.00      0.82         7\n",
            "           2       0.80      0.57      0.67         7\n",
            "           3       0.50      0.40      0.44         5\n",
            "           4       0.78      0.64      0.70        11\n",
            "           5       0.57      0.80      0.67         5\n",
            "           6       1.00      0.60      0.75         5\n",
            "           7       0.50      0.60      0.55         5\n",
            "           8       1.00      0.57      0.73         7\n",
            "           9       0.43      0.50      0.46         6\n",
            "          10       0.86      0.67      0.75         9\n",
            "          11       0.86      1.00      0.92         6\n",
            "          12       0.91      1.00      0.95       116\n",
            "          13       0.75      0.60      0.67         5\n",
            "          14       1.00      0.43      0.60         7\n",
            "          15       0.90      0.75      0.82        12\n",
            "\n",
            "    accuracy                           0.84       219\n",
            "   macro avg       0.77      0.67      0.70       219\n",
            "weighted avg       0.85      0.84      0.83       219\n",
            "\n"
          ],
          "name": "stdout"
        },
        {
          "output_type": "execute_result",
          "data": {
            "text/plain": [
              "<matplotlib.axes._subplots.AxesSubplot at 0x7f5d51313d10>"
            ]
          },
          "metadata": {
            "tags": []
          },
          "execution_count": 30
        },
        {
          "output_type": "display_data",
          "data": {
            "image/png": "[encoded data removed]",
            "text/plain": [
              "<Figure size 432x288 with 1 Axes>"
            ]
          },
          "metadata": {
            "tags": []
          }
        }
      ]
    },
    {
      "cell_type": "code",
      "metadata": {
        "colab": {
          "base_uri": "https://localhost:8080/"
        },
        "id": "KIU4p-LqyyND",
        "outputId": "1dff18d1-504a-4b3e-bd54-019be1807d08"
      },
      "source": [
        "from sklearn.model_selection import cross_val_score\n",
        "\n",
        "scores = cross_val_score(knn_4, X_train, y_train, cv = 10, scoring='accuracy')\n",
        "\n",
        "print('Cross-validation scores:{}'.format(scores))"
      ],
      "execution_count": null,
      "outputs": [
        {
          "output_type": "stream",
          "text": [
            "Cross-validation scores:[0.83333333 0.84848485 0.83333333 0.75757576 0.78787879 0.74242424\n",
            " 0.78787879 0.8        0.76923077 0.8       ]\n"
          ],
          "name": "stdout"
        }
      ]
    },
    {
      "cell_type": "code",
      "metadata": {
        "colab": {
          "base_uri": "https://localhost:8080/"
        },
        "id": "15MSEl1lyyAG",
        "outputId": "ffb6556e-24fa-428f-961c-7aa383170236"
      },
      "source": [
        "print('Average cross-validation score: {:.4f}'.format(scores.mean()))"
      ],
      "execution_count": null,
      "outputs": [
        {
          "output_type": "stream",
          "text": [
            "Average cross-validation score: 0.7960\n"
          ],
          "name": "stdout"
        }
      ]
    },
    {
      "cell_type": "code",
      "metadata": {
        "colab": {
          "base_uri": "https://localhost:8080/",
          "height": 204
        },
        "id": "GE3By7txfDCU",
        "outputId": "8a2d7c32-2b12-4877-952c-56bc7e934f62"
      },
      "source": [
        "Data.head()"
      ],
      "execution_count": null,
      "outputs": [
        {
          "output_type": "execute_result",
          "data": {
            "text/html": [
              "<div>\n",
              "<style scoped>\n",
              "    .dataframe tbody tr th:only-of-type {\n",
              "        vertical-align: middle;\n",
              "    }\n",
              "\n",
              "    .dataframe tbody tr th {\n",
              "        vertical-align: top;\n",
              "    }\n",
              "\n",
              "    .dataframe thead th {\n",
              "        text-align: right;\n",
              "    }\n",
              "</style>\n",
              "<table border=\"1\" class=\"dataframe\">\n",
              "  <thead>\n",
              "    <tr style=\"text-align: right;\">\n",
              "      <th></th>\n",
              "      <th>Label</th>\n",
              "      <th>HI1</th>\n",
              "      <th>HI3</th>\n",
              "      <th>HI5</th>\n",
              "      <th>HI7</th>\n",
              "      <th>HI9</th>\n",
              "      <th>HI11</th>\n",
              "      <th>HI13</th>\n",
              "      <th>HI15</th>\n",
              "      <th>HI17</th>\n",
              "      <th>HI19</th>\n",
              "      <th>HI21</th>\n",
              "      <th>HI23</th>\n",
              "      <th>HI25</th>\n",
              "      <th>HI27</th>\n",
              "      <th>HI29</th>\n",
              "      <th>HI31</th>\n",
              "    </tr>\n",
              "  </thead>\n",
              "  <tbody>\n",
              "    <tr>\n",
              "      <th>0</th>\n",
              "      <td>10</td>\n",
              "      <td>98.46</td>\n",
              "      <td>2.85</td>\n",
              "      <td>1.67</td>\n",
              "      <td>3.19</td>\n",
              "      <td>2.27</td>\n",
              "      <td>2.26</td>\n",
              "      <td>4.23</td>\n",
              "      <td>0.72</td>\n",
              "      <td>1.48</td>\n",
              "      <td>1.70</td>\n",
              "      <td>2.50</td>\n",
              "      <td>2.77</td>\n",
              "      <td>2.64</td>\n",
              "      <td>9.52</td>\n",
              "      <td>6.86</td>\n",
              "      <td>9.56</td>\n",
              "    </tr>\n",
              "    <tr>\n",
              "      <th>1</th>\n",
              "      <td>10</td>\n",
              "      <td>98.75</td>\n",
              "      <td>6.50</td>\n",
              "      <td>1.33</td>\n",
              "      <td>3.66</td>\n",
              "      <td>2.22</td>\n",
              "      <td>0.82</td>\n",
              "      <td>2.52</td>\n",
              "      <td>3.61</td>\n",
              "      <td>9.19</td>\n",
              "      <td>3.64</td>\n",
              "      <td>5.54</td>\n",
              "      <td>4.35</td>\n",
              "      <td>2.99</td>\n",
              "      <td>2.30</td>\n",
              "      <td>1.83</td>\n",
              "      <td>1.30</td>\n",
              "    </tr>\n",
              "    <tr>\n",
              "      <th>2</th>\n",
              "      <td>10</td>\n",
              "      <td>99.16</td>\n",
              "      <td>6.10</td>\n",
              "      <td>2.99</td>\n",
              "      <td>4.37</td>\n",
              "      <td>0.81</td>\n",
              "      <td>3.20</td>\n",
              "      <td>2.26</td>\n",
              "      <td>4.71</td>\n",
              "      <td>4.69</td>\n",
              "      <td>1.91</td>\n",
              "      <td>0.45</td>\n",
              "      <td>1.78</td>\n",
              "      <td>3.17</td>\n",
              "      <td>1.39</td>\n",
              "      <td>1.12</td>\n",
              "      <td>4.68</td>\n",
              "    </tr>\n",
              "    <tr>\n",
              "      <th>3</th>\n",
              "      <td>10</td>\n",
              "      <td>99.20</td>\n",
              "      <td>4.85</td>\n",
              "      <td>3.84</td>\n",
              "      <td>3.14</td>\n",
              "      <td>1.83</td>\n",
              "      <td>1.92</td>\n",
              "      <td>1.73</td>\n",
              "      <td>6.11</td>\n",
              "      <td>2.48</td>\n",
              "      <td>4.95</td>\n",
              "      <td>1.76</td>\n",
              "      <td>1.56</td>\n",
              "      <td>3.95</td>\n",
              "      <td>2.27</td>\n",
              "      <td>2.32</td>\n",
              "      <td>0.98</td>\n",
              "    </tr>\n",
              "    <tr>\n",
              "      <th>4</th>\n",
              "      <td>10</td>\n",
              "      <td>99.44</td>\n",
              "      <td>4.34</td>\n",
              "      <td>1.54</td>\n",
              "      <td>4.34</td>\n",
              "      <td>2.50</td>\n",
              "      <td>0.72</td>\n",
              "      <td>3.19</td>\n",
              "      <td>3.61</td>\n",
              "      <td>3.84</td>\n",
              "      <td>2.99</td>\n",
              "      <td>1.76</td>\n",
              "      <td>1.14</td>\n",
              "      <td>1.83</td>\n",
              "      <td>2.77</td>\n",
              "      <td>0.96</td>\n",
              "      <td>1.33</td>\n",
              "    </tr>\n",
              "  </tbody>\n",
              "</table>\n",
              "</div>"
            ],
            "text/plain": [
              "   Label    HI1   HI3   HI5   HI7   HI9  ...  HI21  HI23  HI25  HI27  HI29  HI31\n",
              "0     10  98.46  2.85  1.67  3.19  2.27  ...  2.50  2.77  2.64  9.52  6.86  9.56\n",
              "1     10  98.75  6.50  1.33  3.66  2.22  ...  5.54  4.35  2.99  2.30  1.83  1.30\n",
              "2     10  99.16  6.10  2.99  4.37  0.81  ...  0.45  1.78  3.17  1.39  1.12  4.68\n",
              "3     10  99.20  4.85  3.84  3.14  1.83  ...  1.76  1.56  3.95  2.27  2.32  0.98\n",
              "4     10  99.44  4.34  1.54  4.34  2.50  ...  1.76  1.14  1.83  2.77  0.96  1.33\n",
              "\n",
              "[5 rows x 17 columns]"
            ]
          },
          "metadata": {
            "tags": []
          },
          "execution_count": 33
        }
      ]
    },
    {
      "cell_type": "code",
      "metadata": {
        "colab": {
          "base_uri": "https://localhost:8080/"
        },
        "id": "zoJgTPzW3ibI",
        "outputId": "26c921f3-4306-4725-e1de-66056a585f7a"
      },
      "source": [
        "new1 = knn_4.predict([[98.46, 2.86,1.67,3.19,2.27,2.26, 4.23,0.72,1.48,1.7,2.5,2.77,2.64,9.52,6.86,9.56]])\n",
        "print('Hasil prediksi 1:', label_encoder.inverse_transform(new1))"
      ],
      "execution_count": null,
      "outputs": [
        {
          "output_type": "stream",
          "text": [
            "Hasil prediksi 1: ['Kipas']\n"
          ],
          "name": "stdout"
        }
      ]
    },
    {
      "cell_type": "code",
      "metadata": {
        "colab": {
          "base_uri": "https://localhost:8080/"
        },
        "id": "R35oLWtOeuXW",
        "outputId": "16259194-6499-45ad-c964-eb3bcf598227"
      },
      "source": [
        "new1 = knn_4.predict([[99.87, 4.19,1.94,1.08,1.29,0.77, 0.52,0.43,0.44,0.59,0.69,0.57,0.4,0,0.35,0.34]])\n",
        "print('Hasil prediksi 1:', label_encoder.inverse_transform(new1))\n",
        "#Pemanas AirKipasHairdryer #800\n",
        "new2 = knn_4.predict([[98.46, 2.86,1.67,3.19,2.27,2.26, 4.23,0.72,1.48,1.7,2.5,2.77,2.64,9.52,6.86,9.56]])\n",
        "print('Hasil prediksi 2:', label_encoder.inverse_transform(new2))\n",
        "#KIPAS #1\n",
        "new3 = knn_4.predict([[99.9, 3.1,2.13,1.06,0.96,0.98, 0.73,0.3,0.76,0.57,0.43,0.44,0.54,0.3,0.46,0.73]])\n",
        "print('Hasil prediksi 3:', label_encoder.inverse_transform(new3))\n",
        "#Hairdryer #189\n",
        "new4 = knn_4.predict([[99.9, 3.62,1.89,1.02,1.23,0.32, 0,0,0.54,0.34,0.43,0.45,0,0.48,0.55,0]])\n",
        "print('Hasil prediksi 4:', label_encoder.inverse_transform(new4))\n",
        "#BlenderPemanas Air #420\n",
        "\n",
        "new5 = knn_4.predict([[99.9, 3.58,1.31,1.34,1.35,0.75, 0.74,0.63,0.5,0.42,0,0.39,0,0,0,0]])\n",
        "print('Hasil prediksi 5:', label_encoder.inverse_transform(new5))\n",
        "#pemanas Air #85\n",
        "new6 = knn_4.predict([[99.38, 9.38,3.17,2.45,0.64,1.76, 0,0.7,0.84,1.42,2.11,2.36,1.41,0.55,0.82,0.4]])\n",
        "print('Hasil prediksi 6:', label_encoder.inverse_transform(new6))\n",
        "#Blender #162\n",
        "new7 = knn_4.predict([[99.84, 4.72,2.49,1.33,0.89,0.34, 0.51,0,0.65,0.4,0,0,0.5,0.39,0,0]])\n",
        "print('Hasil prediksi 7:', label_encoder.inverse_transform(new7))\n",
        "#HairdryerBlenderr #227\n",
        "\n",
        "new8 = knn_4.predict([[99.82, 4.31,2.38,1.43,1.63,0.69, 1.18,0.65,1.4,0.84,0.44,0.5,0.36,0.32,0.67,0]])\n",
        "print('Hasil prediksi 8:', label_encoder.inverse_transform(new8))\n",
        "#HairdryerKipas #297\n",
        "new9 = knn_4.predict([[99.9, 3.61,1.81,1.02,1.17,0.65, 0.53,0.41,0.31,0.42,0,0,0.36,0,0,0]])\n",
        "print('Hasil prediksi 9:', label_encoder.inverse_transform(new9))\n",
        "#HairdryerPemanas Air #360\n",
        "new10 = knn_4.predict([[99.89, 3.62,1.64,1.25,1.17,1, 0.44,0.87,0,0.31,0,0.34,0,0.52,0,0]])\n",
        "print('Hasil prediksi 10:', label_encoder.inverse_transform(new10))\n",
        "#BlenderPemanas Air #394\n",
        "\n",
        "new11 = knn_4.predict([[99.49, 7.73,2.7,3.15,1.66,0.36, 0.52,0.66,3.52,1.72,0.79,1.91,0,1.27,0,0.53]])\n",
        "print('Hasil prediksi 11:', label_encoder.inverse_transform(new11))\n",
        "#BlenderKipas #458\n",
        "new12 = knn_4.predict([[99.85, 4.62,1.6,1.29,1.35,0.68, 0.45,0.3,0.76,0.46,0,0.37,0,0,0.39,0]])\n",
        "print('Hasil prediksi 12:', label_encoder.inverse_transform(new12))\n",
        "#Pemanas AirKipas #509\n",
        "new13 = knn_4.predict([[99.77, 4.97,2.79,2.03,1.48,0.89,0.77,0.55,1.6,0.72,0.92,0,0.68,0.49,0,0.38]])\n",
        "print('Hasil prediksi 13:', label_encoder.inverse_transform(new13))\n",
        "#HairdryerBlenderKipasr #564\n",
        "\n",
        "new14 = knn_4.predict([[99.87, 4.09,2.07,0.93,1.4,0.56, 0.51,0.62,0.43,0,0.45,0.42,0,0,0,0.35]])\n",
        "print('Hasil prediksi 14:', label_encoder.inverse_transform(new14))\n",
        "#Pemanas AirKipasHairdryer #769\n",
        "new15 = knn_4.predict([[99.87, 4.27,2.09,1.09,1.23,0.57, 0.4,0,0.55,0.56,0,0.37,0,0,0,0]])\n",
        "print('Hasil prediksi 15:', label_encoder.inverse_transform(new15))\n",
        "#KipasPemanas AirBlenderHairdryer #865\n",
        "new16 = knn_4.predict([[99.18, 9.95,4.53,3.89,0.9,1.7, 2,1.21,1.94,1.67,1.9,2.16,1.16,0.71,1.62,0.85]])\n",
        "print('Hasil prediksi 16:', label_encoder.inverse_transform(new16))\n",
        "#Blender #125\n",
        "\n",
        "new17 = knn_4.predict([[99.91, 2.79,2.33,0.81,1.4,0.71, 0.3,0.49,0.41,0,0,0.47,0,0,0.3,0]])\n",
        "print('Hasil prediksi 17:', label_encoder.inverse_transform(new17))\n",
        "#Hairdryer #190\n",
        "new18 = knn_4.predict([[99.83, 3.6,2.42,1.6,1.28,0.7,0.63,0.62,1.14,1.92,1.54,1.03,0.91,0.55,0.48,0.76]])\n",
        "print('Hasil prediksi 18:', label_encoder.inverse_transform(new18))\n",
        "#HairdryerKipas #309\n",
        "new19 = knn_4.predict([[99.43, 7.75,3.16,2.57,3.12,1.26,0.79,0.98,0.69,0.85,3.34,2.17,1.24,1.23,1.48,1.22]])\n",
        "print('Hasil prediksi 19:', label_encoder.inverse_transform(new19))\n",
        "#Kipas #62\n",
        "new20 = knn_4.predict([[99.82, 4.43,2.6,1.28,1.82,1.1, 0.66,0.99,0.31,0.94,0.46,0.7,0.5,0.49,0.31,0]])\n",
        "print('Hasil prediksi 20:', label_encoder.inverse_transform(new20))\n",
        "#HairdryerKipas #279\n",
        "new21 = knn_4.predict([[0,0,0,0,0,0, 0,0,0,0,0,0,0,0,0,0]])\n",
        "print('Hasil prediksi 21:', label_encoder.inverse_transform(new21))\n",
        "#KOSONG\n",
        "\n",
        "new22 = knn_4.predict([[99.71,4.17,1.25,1.64,1.41,1.77,1.89,1.34,0,2.31,2.34,2.13,2.41,1.22,1.22,2.54]])\n",
        "print('Hasil prediksi 22:', label_encoder.inverse_transform(new22))\n",
        "#Kipas #8\n",
        "new23 = knn_4.predict([[99.2,7.5,5.69,4.16,1.92,3.06,3.54,2.78,1.39,2.34,2.83,1.04,0.66,1.08,1.61,0]])\n",
        "print('Hasil prediksi 23:', label_encoder.inverse_transform(new23))\n",
        "#Kipas #21\n",
        "new24 = knn_4.predict([[98.94 ,7.14 ,2.37 ,6.09 ,3.21 ,1.99 ,1.15 ,1.77 ,3.2 ,5.17 ,5.44 ,1.07 ,3.41 ,0.34 ,2.67 ,3.38]])\n",
        "print('Hasil prediksi 24:', label_encoder.inverse_transform(new24))\n",
        "#Kipas #53\n",
        "new25 = knn_4.predict([[99.88 ,3.67 ,1.24 ,1.53 ,1.24 ,0.75 ,0.93 ,0.61 ,1.14 ,0.66 ,0.64 ,0 ,0.4 ,0 ,0 ,0.36]])\n",
        "print('Hasil prediksi 25:', label_encoder.inverse_transform(new25))\n",
        "#Pemanas Air #76\n",
        "new26 = knn_4.predict([[99.89 ,4.02 ,1.39 ,1.1 ,1.26 ,0.71 ,0.48 ,0 ,0.48 ,0.42 ,0 ,0.54 ,0.38 ,0 ,0 ,0.38]])\n",
        "print('Hasil prediksi 26:', label_encoder.inverse_transform(new26))\n",
        "#Pemanas Air #84\n",
        "new27 = knn_4.predict([[99.89 ,4.02 ,1.26 ,1.04 ,1.14 ,0.47 ,0.61 ,0 ,0 ,0.53 ,0.8 ,0.36 ,0 ,0 ,0.44 ,0]])\n",
        "print('Hasil prediksi 27:', label_encoder.inverse_transform(new27))\n",
        "#Pemanas Air #92\n",
        "new28 = knn_4.predict([[99.89 ,3.98 ,1.27 ,1.4 ,1.24 ,0.57 ,0.47 ,0.49 ,0.55 ,0 ,0 ,0.42 ,0.56 ,0 ,0 ,0.41]])\n",
        "print('Hasil prediksi 28:', label_encoder.inverse_transform(new28))\n",
        "#Pemanas Air #101\n",
        "new29 = knn_4.predict([[99.32 ,8.15 ,4.18 ,2.46 ,1.65 ,1.58 ,1.39 ,0.52 ,1.91 ,2.99 ,3.37 ,2.99 ,1.95 ,1.06 ,0.65 ,0.91]])\n",
        "print('Hasil prediksi 29:', label_encoder.inverse_transform(new29))\n",
        "#Blender #133\n",
        "new30 = knn_4.predict([[99.55 ,8.5 ,2.13 ,2.19 ,1.4 ,1 ,0.78 ,0.61 ,0.86 ,0.91 ,1.05 ,0.71 ,0.49 ,0.71 ,0.61 ,0.45]])\n",
        "print('Hasil prediksi 30:', label_encoder.inverse_transform(new30))\n",
        "#Blender #142\n",
        "new31 = knn_4.predict([[99.4 ,8.72 ,3.18 ,2.51 ,1.7 ,1.98 ,0.62 ,0.65 ,1.87 ,1.58 ,3.06 ,1.76 ,0.52 ,0.45 ,0.57 ,0.78]])\n",
        "print('Hasil prediksi 31:', label_encoder.inverse_transform(new31))\n",
        "#Blender #152\n",
        "\n",
        "new32 = knn_4.predict([[99.9 ,3.26 ,2.22 ,0.62 ,1.25 ,1.03 ,0.48 ,0.56 ,0.69 ,0 ,0.39 ,1.1 ,1.37 ,0.48 ,0 ,0.69]])\n",
        "print('Hasil prediksi 32:', label_encoder.inverse_transform(new32))\n",
        "#Hairdryer #177\n",
        "new33 = knn_4.predict([[99.86 ,2.75 ,2.07 ,1.25 ,1.84 ,0.96 ,0.53 ,0.68 ,1.43 ,1.17 ,0.59 ,1.92 ,0 ,0.52 ,1.11 ,0.52]])\n",
        "print('Hasil prediksi 33:', label_encoder.inverse_transform(new33))\n",
        "#KHairdryer #181\n",
        "new34 = knn_4.predict([[99.88 ,3.28 ,1.98 ,0.89 ,1.12 ,0 ,0.88 ,0.46 ,0.73 ,0.65 ,1.18 ,0.98 ,0.87 ,0.95 ,0.76 ,0.71]])\n",
        "print('Hasil prediksi 34:', label_encoder.inverse_transform(new34))\n",
        "#Hairdryer #188\n",
        "new35 = knn_4.predict([[99.9 ,3.02 ,2.17 ,1.08 ,0.37 ,0.43 ,0.81 ,1.12 ,0.92 ,0.62 ,1.15 ,0.46 ,0.55 ,0.31 ,0 ,0.56]])\n",
        "print('Hasil prediksi 35:', label_encoder.inverse_transform(new35))\n",
        "#Hairdryer #206\n",
        "new36 = knn_4.predict([[99.8 ,4.94 ,2.55 ,1.42 ,1.39 ,0.41 ,0.46 ,0.73 ,1.83 ,0.39 ,0.52 ,0.53 ,0.46 ,0 ,0 ,0.53]])\n",
        "print('Hasil prediksi 36:', label_encoder.inverse_transform(new36))\n",
        "#HairdryerBlender #228\n",
        "new37 = knn_4.predict([[99.85 ,4.43 ,2.22 ,1.08 ,0.79 ,0.61 ,0.62 ,0.43 ,1.08 ,0.72 ,0.31 ,0.78 ,0.74 ,0 ,0 ,0.33]])\n",
        "print('Hasil prediksi 37:', label_encoder.inverse_transform(new37))\n",
        "#HairdryerBlender #237\n",
        "new38 = knn_4.predict([[99.83 ,4.36 ,2.89 ,0.96 ,1.47 ,0 ,0.62 ,0.53 ,1.37 ,0.68 ,0.38 ,0.41 ,0 ,0.32 ,0.48 ,0.59]])\n",
        "print('Hasil prediksi 38:', label_encoder.inverse_transform(new38))\n",
        "#HairdryerBlender #246\n",
        "new39 = knn_4.predict([[99.81 ,4.22 ,2.76 ,1.62 ,1.3 ,0.34 ,1.21 ,0.83 ,1.53 ,0.85 ,0.54 ,0.71 ,0 ,0.63 ,0 ,0.91]])\n",
        "print('Hasil prediksi 39:', label_encoder.inverse_transform(new39))\n",
        "#HairdryerKipas #288\n",
        "new40 = knn_4.predict([[99.84 ,4.2 ,2.9 ,1.35 ,1.37 ,0.32 ,0.65 ,0.46 ,0 ,0.73 ,0.7 ,0 ,0.57 ,0.48 ,0.3 ,0.61]])\n",
        "print('Hasil prediksi 40:', label_encoder.inverse_transform(new40))\n",
        "#HairdryerKipas #319\n",
        "new41 = knn_4.predict([[99.87 ,3.96 ,2 ,1.1 ,1.47 ,0.78 ,0.58 ,0.54 ,0.58 ,0.51 ,0 ,0.47 ,0.34 ,0 ,0.36 ,0.31]])\n",
        "print('Hasil prediksi 41:', label_encoder.inverse_transform(new41))\n",
        "#HairdryerPemanasAir #334\n",
        "\n",
        "new42 = knn_4.predict([[99.9 ,3.63 ,1.83 ,0.98 ,1.22 ,0.71 ,0.42 ,0.32 ,0.35 ,0.43 ,0 ,0 ,0 ,0 ,0 ,0.32]])\n",
        "print('Hasil prediksi 42:', label_encoder.inverse_transform(new42))\n",
        "#HairdryerPemanasAir #342\n",
        "new43 = knn_4.predict([[99.9 ,3.57 ,1.8 ,1.02 ,1.19 ,0.66 ,0.4 ,0 ,0.37 ,0.49 ,0.48 ,0.53 ,0.31 ,0.32 ,0 ,0]])\n",
        "print('Hasil prediksi 43:', label_encoder.inverse_transform(new43))\n",
        "#HairdryerPemanasAir #370\n",
        "new44 = knn_4.predict([[99.89 ,3.74 ,1.69 ,1.16 ,1.34 ,0.56 ,0 ,0.37 ,0 ,0.56 ,0.4 ,0 ,0 ,0 ,0 ,0.31]])\n",
        "print('Hasil prediksi 44:', label_encoder.inverse_transform(new44))\n",
        "#BlenderPemanasAir #385\n",
        "new45 = knn_4.predict([[99.68 ,5.91 ,2.44 ,1.86 ,1.11 ,1.01 ,0.54 ,0.64 ,0.72 ,0.44 ,2.7 ,2.63 ,0.36 ,0.64 ,0.47 ,0.43]])\n",
        "print('Hasil prediksi 45:', label_encoder.inverse_transform(new45))\n",
        "#BlenderPemanasAir #405\n",
        "new46 = knn_4.predict([[99.49 ,7.79 ,2.87 ,2.97 ,1.28 ,1.27 ,1.49 ,0 ,2.91 ,2.16 ,1.46 ,1.45 ,0.77 ,0 ,0.42 ,0.36]])\n",
        "print('Hasil prediksi 46:', label_encoder.inverse_transform(new46))\n",
        "#BlenderKipas #434\n",
        "new47 = knn_4.predict([[99.51 ,8.06 ,2.98 ,2.49 ,1.43 ,1.39 ,1.17 ,0.48 ,2.36 ,1.59 ,0.92 ,1.01 ,0.43 ,0.72 ,0.65 ,0.44]])\n",
        "print('Hasil prediksi 47:', label_encoder.inverse_transform(new47))\n",
        "#BlenderKipas #446\n",
        "new48 = knn_4.predict([[99.84 ,4.57 ,1.86 ,1.39 ,1.01 ,0.82 ,1.1 ,0.44 ,0.91 ,0.31 ,0.36 ,0.55 ,0.36 ,0 ,0 ,0.33]])\n",
        "print('Hasil prediksi 48:', label_encoder.inverse_transform(new48))\n",
        "#PemanasairKipas #516\n",
        "new49 = knn_4.predict([[99.86 ,4.51 ,1.68 ,0.83 ,1.08 ,0.54 ,0.62 ,0.33 ,0.65 ,0.34 ,0.31 ,0.57 ,0 ,0.35 ,0.31 ,0]])\n",
        "print('Hasil prediksi 49:', label_encoder.inverse_transform(new49))\n",
        "#PemanasairKipas #528\n",
        "new50 = knn_4.predict([[99.89 ,3.93 ,1.96 ,0.98 ,1.06 ,0.4 ,0.33 ,0.35 ,0 ,0 ,0 ,0.32 ,0 ,0 ,0.35 ,0.31]])\n",
        "print('Hasil prediksi 50:', label_encoder.inverse_transform(new50))\n",
        "#ALL #836\n",
        "new51 = knn_4.predict([[99.87 ,4.15 ,1.96 ,0.98 ,1.23 ,0.57 ,0.51 ,0.39 ,0.68 ,0.46 ,0 ,0.51 ,0.32 ,0 ,0 ,0]])\n",
        "print('Hasil prediksi 51:', label_encoder.inverse_transform(new51))\n",
        "#ALL #847"
      ],
      "execution_count": null,
      "outputs": [
        {
          "output_type": "stream",
          "text": [
            "Hasil prediksi 1: ['Pemanas AirKipasHairdryer']\n",
            "Hasil prediksi 2: ['Kipas']\n",
            "Hasil prediksi 3: ['HairdryerPemanas Air']\n",
            "Hasil prediksi 4: ['BlenderPemanas Air']\n",
            "Hasil prediksi 5: ['HairdryerPemanas Air']\n",
            "Hasil prediksi 6: ['Blender']\n",
            "Hasil prediksi 7: ['KipasPemanas AirBlenderHairdryer']\n",
            "Hasil prediksi 8: ['HairdryerKipas']\n",
            "Hasil prediksi 9: ['HairdryerPemanas Air']\n",
            "Hasil prediksi 10: ['HairdryerPemanas Air']\n",
            "Hasil prediksi 11: ['BlenderKipas']\n",
            "Hasil prediksi 12: ['Pemanas AirKipas']\n",
            "Hasil prediksi 13: ['HairdryerBlenderKipas']\n",
            "Hasil prediksi 14: ['Pemanas AirKipasHairdryer']\n",
            "Hasil prediksi 15: ['KipasPemanas AirBlenderHairdryer']\n",
            "Hasil prediksi 16: ['Blender']\n",
            "Hasil prediksi 17: ['HairdryerPemanas Air']\n",
            "Hasil prediksi 18: ['Hairdryer']\n",
            "Hasil prediksi 19: ['Blender']\n",
            "Hasil prediksi 20: ['HairdryerKipas']\n",
            "Hasil prediksi 21: ['Kosong']\n",
            "Hasil prediksi 22: ['HairdryerKipas']\n",
            "Hasil prediksi 23: ['Kipas']\n",
            "Hasil prediksi 24: ['Kipas']\n",
            "Hasil prediksi 25: ['Pemanas Air']\n",
            "Hasil prediksi 26: ['Pemanas Air']\n",
            "Hasil prediksi 27: ['Pemanas Air']\n",
            "Hasil prediksi 28: ['Pemanas Air']\n",
            "Hasil prediksi 29: ['Blender']\n",
            "Hasil prediksi 30: ['Blender']\n",
            "Hasil prediksi 31: ['Blender']\n",
            "Hasil prediksi 32: ['HairdryerPemanas Air']\n",
            "Hasil prediksi 33: ['Hairdryer']\n",
            "Hasil prediksi 34: ['Hairdryer']\n",
            "Hasil prediksi 35: ['Hairdryer']\n",
            "Hasil prediksi 36: ['HairdryerBlender']\n",
            "Hasil prediksi 37: ['HairdryerBlender']\n",
            "Hasil prediksi 38: ['HairdryerBlender']\n",
            "Hasil prediksi 39: ['HairdryerKipas']\n",
            "Hasil prediksi 40: ['BlenderPemanas AirKipas']\n",
            "Hasil prediksi 41: ['Pemanas AirKipasHairdryer']\n",
            "Hasil prediksi 42: ['HairdryerPemanas Air']\n",
            "Hasil prediksi 43: ['HairdryerPemanas Air']\n",
            "Hasil prediksi 44: ['HairdryerPemanas Air']\n",
            "Hasil prediksi 45: ['BlenderKipas']\n",
            "Hasil prediksi 46: ['BlenderKipas']\n",
            "Hasil prediksi 47: ['BlenderKipas']\n",
            "Hasil prediksi 48: ['Pemanas AirKipas']\n",
            "Hasil prediksi 49: ['Pemanas AirKipas']\n",
            "Hasil prediksi 50: ['Pemanas AirKipasHairdryer']\n",
            "Hasil prediksi 51: ['KipasPemanas AirBlenderHairdryer']\n"
          ],
          "name": "stdout"
        }
      ]
    },
    {
      "cell_type": "code",
      "metadata": {
        "colab": {
          "base_uri": "https://localhost:8080/"
        },
        "id": "n79oBaEkyuFP",
        "outputId": "4a06e227-4846-469d-ba75-efbcde5e6b2e"
      },
      "source": [
        "from sklearn.externals import joblib"
      ],
      "execution_count": null,
      "outputs": [
        {
          "output_type": "stream",
          "text": [
            "/usr/local/lib/python3.7/dist-packages/sklearn/externals/joblib/__init__.py:15: FutureWarning: sklearn.externals.joblib is deprecated in 0.21 and will be removed in 0.23. Please import this functionality directly from joblib, which can be installed with: pip install joblib. If this warning is raised when loading pickled models, you may need to re-serialize those models with scikit-learn 0.21+.\n",
            "  warnings.warn(msg, category=FutureWarning)\n"
          ],
          "name": "stderr"
        }
      ]
    },
    {
      "cell_type": "code",
      "metadata": {
        "colab": {
          "base_uri": "https://localhost:8080/"
        },
        "id": "bSYoBDdGy7RZ",
        "outputId": "5dada30e-e540-45d8-8df1-3d517ba2c9b3"
      },
      "source": [
        "joblib.dump(knn_4, 'ModelKNN.pkl')"
      ],
      "execution_count": null,
      "outputs": [
        {
          "output_type": "execute_result",
          "data": {
            "text/plain": [
              "['ModelKNN.pkl']"
            ]
          },
          "metadata": {
            "tags": []
          },
          "execution_count": 35
        }
      ]
    },
    {
      "cell_type": "code",
      "metadata": {
        "id": "aPBX_Mz97mnA"
      },
      "source": [
        "knn_from_joblib=joblib.load(\"ModelKNN.pkl\")"
      ],
      "execution_count": null,
      "outputs": []
    },
    {
      "cell_type": "code",
      "metadata": {
        "colab": {
          "base_uri": "https://localhost:8080/"
        },
        "id": "UhPtlHI77zYo",
        "outputId": "28361b02-de7c-4fa2-a773-8fc66e157da7"
      },
      "source": [
        "\n",
        "knn_from_joblib.predict(X_test) "
      ],
      "execution_count": null,
      "outputs": [
        {
          "output_type": "execute_result",
          "data": {
            "text/plain": [
              "array([12, 12, 12, 12,  1, 12, 11,  1, 15, 12,  1,  4,  2, 12, 12,  4, 10,\n",
              "        0, 12, 12, 12, 12,  9, 12, 12,  0, 12,  1, 12, 12, 12, 12, 13, 12,\n",
              "       12, 11, 12,  2,  8, 12,  8, 11, 12,  1,  7,  7, 12,  4, 12, 12, 12,\n",
              "       12, 12, 12, 12, 12,  5, 12, 12,  1,  6, 12, 12, 12, 12, 12, 13, 12,\n",
              "       15, 12,  0, 14, 12, 12, 12, 12,  5, 12, 14,  4, 12, 12, 14, 12,  3,\n",
              "        9, 12, 12, 15, 12, 12, 12, 12, 12,  5, 12, 12, 12, 12, 12, 12, 10,\n",
              "        1, 12, 12,  9, 12, 12,  9, 12, 12, 12,  0, 12, 12, 12, 11, 12, 12,\n",
              "       12, 12, 12, 11,  7, 12, 12,  9, 12, 15,  8, 12, 12,  5, 12, 12, 12,\n",
              "       12, 12, 12,  4, 12, 10,  1, 12,  9,  6,  7, 12, 10,  0,  4,  5,  2,\n",
              "        1, 12,  5, 12, 13,  7,  3, 11,  1,  2, 12, 12, 12, 11, 12, 10, 12,\n",
              "       15, 12,  5, 12, 15, 15, 12, 12, 10,  9, 12,  9,  2, 14, 12, 15, 12,\n",
              "        7,  6, 12,  9, 12, 12, 12,  8, 12, 12,  4,  3, 12, 12, 15, 12, 12,\n",
              "       12, 12, 12, 12, 12,  0, 12, 12, 12, 12, 12, 12, 12,  7,  8])"
            ]
          },
          "metadata": {
            "tags": []
          },
          "execution_count": 40
        }
      ]
    },
    {
      "cell_type": "code",
      "metadata": {
        "colab": {
          "base_uri": "https://localhost:8080/"
        },
        "id": "2gLT8g-d8POi",
        "outputId": "d46e7eb4-fd0f-41a1-a129-9782859622cd"
      },
      "source": [
        "newload = knn_from_joblib.predict([[98.46, 2.86,1.67,3.19,2.27,2.26, 4.23,0.72,1.48,1.7,2.5,2.77,2.64,9.52,6.86,9.56]])\n",
        "print('Hasil prediksi 1:', label_encoder.inverse_transform(newload))"
      ],
      "execution_count": null,
      "outputs": [
        {
          "output_type": "stream",
          "text": [
            "Hasil prediksi 1: ['Kipas']\n"
          ],
          "name": "stdout"
        }
      ]
    }
  ]
}